{
 "cells": [
  {
   "cell_type": "markdown",
   "metadata": {},
   "source": [
    "### Finding an initial bracket\n",
    "\n",
    "When optimizing a function, we often start by first bracketing an interval containing a local minimum. We then successively reduce the size of the bracketed interval to converge on the local minimum. A simple heuristic algorithm can be used to find an initial bracket. Starting at a given point, we take a step in the positive direction. The distance we take is a *hyperparameter* to the algorithm, but the algorithm defaults it to $1 \\times 10^{-2}$. We then search the downhill direction to find a new point that exceeds the lowest point. With each step, we expand the step size by some factor, which is another hyperparameter to this algorithm that is often set to $2$."
   ]
  },
  {
   "cell_type": "code",
   "execution_count": 1,
   "metadata": {},
   "outputs": [
    {
     "data": {
      "text/plain": [
       "bracket_minimum (generic function with 4 methods)"
      ]
     },
     "execution_count": 1,
     "metadata": {},
     "output_type": "execute_result"
    }
   ],
   "source": [
    "function bracket_minimum(f, x = 0, s = 1e-2, k = 2.0)\n",
    "    a, fa = x, f(x)\n",
    "    b, fb = x + s, f(x + s)\n",
    "    \n",
    "    if(fb > fa)\n",
    "        a, b = b, a\n",
    "        fa, fb = fb, fa\n",
    "        s = -s\n",
    "    end\n",
    "    \n",
    "    while(true)\n",
    "        c, fc = b + s, f(b + s)\n",
    "        if(fb < fc)\n",
    "            return a < c ? (a, c) : (c, a)\n",
    "        else\n",
    "            a, fa, b, fb = b, fb, c, fc\n",
    "            s *= k\n",
    "        end\n",
    "    end\n",
    "end"
   ]
  }
 ],
 "metadata": {
  "kernelspec": {
   "display_name": "Julia 1.5.3",
   "language": "julia",
   "name": "julia-1.5"
  },
  "language_info": {
   "file_extension": ".jl",
   "mimetype": "application/julia",
   "name": "julia",
   "version": "1.5.3"
  }
 },
 "nbformat": 4,
 "nbformat_minor": 4
}
