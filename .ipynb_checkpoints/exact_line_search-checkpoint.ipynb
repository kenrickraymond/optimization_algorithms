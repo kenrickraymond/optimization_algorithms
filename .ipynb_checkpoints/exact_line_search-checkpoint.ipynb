{
 "cells": [
  {
   "cell_type": "markdown",
   "metadata": {},
   "source": [
    "One-dimensional search methods play an important role in multi-dimensional optimization problems. In particular, iterative algorithms for solving such optimization problems typically involve a line-search at every iteration. To be specific, let $f:\\mathbf{R}^n \\to \\mathbf{R}$ be a function that we wish to minimize. \n",
    "\n",
    "A common approach to optimization is to incrementally improve upon $\\mathbf{x}$ by taking a step that minimizes the objective value based on a local model. The local model may be obtained, from a first-order or second-order Taylor's approximation. Optimization algorithms that follow this general approach are referred to as *descent direction methods*. They start with an initial point $\\mathbf{x}^{(1)}$, then generate a sequence $\\mathbf{x}^{(1)}, \\mathbf{x}^{(2)}, \\mathbf{x}^{(3)}, \\ldots, \\mathbf{x}^{(k)},\\ldots$, called iterates to converge to a local minimum. \n",
    "\n",
    "The iterative descent direction algorithm involves the following steps:\n",
    "\n",
    "1. Check whether $\\mathbf{x}^{(k)}$ satisfies the termination procedure. If it does, terminate; otherwise proceed to the next step.\n",
    "\n",
    "2. Determine the *descent direction* $\\mathbf{d}^{(k)}$ using local information such as the gradient or Hessian. Some algorithms assume the magnitude/length of the direction vector as $1$, $\\lvert \\lvert \\mathbf{d}^{(k)} \\rvert \\rvert = 1$, but others do not.\n",
    "\n",
    "3. Determine the step size or the learning rate $\\alpha^{(k)}$. Some algorithms attempt to optimize the step-size so that the step maximally decreases $f$.\n",
    "\n",
    "4. Compute the next point according to:\n",
    "\n",
    "\\begin{align*}\n",
    "\\mathbf{x}^{(k+1)} \\leftarrow \\mathbf{x}^{k} + \\alpha^{(k)}\\mathbf{d}^{(k)}\n",
    "\\end{align*}"
   ]
  },
  {
   "cell_type": "markdown",
   "metadata": {},
   "source": [
    "For the moment assume that we have chosen a descent direction $\\mathbf{d}^{(k)}$ perhaps using one of the methods discussed at length in the subsequent notebooks. We need to choose the step factor $\\alpha$ to obtain our next point.One approach is to use *exact line search*, which minimizes the function $\\phi_k(\\alpha)$ of a single variable $\\alpha$.\n",
    "\n",
    "\\begin{align*}\n",
    "\\phi_k(\\alpha) = f(\\mathbf{x}^{(k)} + \\alpha \\mathbf{d}^{(k)})\n",
    "\\end{align*}\n",
    "\n",
    "Line search is a univariate optimization problem. We can therefore, apply the univariate optimization method of our choice. To inform the search, we can use the derivative of the line search objective, which is simply the directional derivative along $\\mathbf{d}$ at $\\mathbf{x} + \\alpha \\mathbf{d}$. "
   ]
  },
  {
   "cell_type": "code",
   "execution_count": 1,
   "metadata": {},
   "outputs": [
    {
     "name": "stderr",
     "output_type": "stream",
     "text": [
      "┌ Info: Precompiling NBInclude [0db19996-df87-5ea3-a455-e3a50d440464]\n",
      "└ @ Base loading.jl:1278\n"
     ]
    },
    {
     "data": {
      "text/plain": [
       "(0.7808837890625, 0.7808914184570312)"
      ]
     },
     "execution_count": 1,
     "metadata": {},
     "output_type": "execute_result"
    }
   ],
   "source": [
    "using NBInclude\n",
    "@nbinclude(\"bracket_minimum.ipynb\")\n",
    "@nbinclude(\"bisection_search.ipynb\")"
   ]
  },
  {
   "cell_type": "code",
   "execution_count": 2,
   "metadata": {},
   "outputs": [
    {
     "data": {
      "text/plain": [
       "f (generic function with 1 method)"
      ]
     },
     "execution_count": 2,
     "metadata": {},
     "output_type": "execute_result"
    }
   ],
   "source": [
    "function line_search(f, x, d)\n",
    "    objective = α -> f(x + α*d)\n",
    "    a, b = bracket_minimum(objective)\n",
    "    α = bisection(objective, a, b, 1e-5)\n",
    "    return α, x + α*d\n",
    "end\n",
    "\n",
    "f(x) = sin(x[1] * x[2]) + exp(x[2] + x[3]) - x[3]"
   ]
  },
  {
   "cell_type": "code",
   "execution_count": 6,
   "metadata": {},
   "outputs": [
    {
     "ename": "LoadError",
     "evalue": "\u001b[91mMethodError: no method matching *(::Tuple{Float64,Float64}, ::Array{Int64,1})\u001b[39m\n\u001b[91m\u001b[0mClosest candidates are:\u001b[39m\n\u001b[91m\u001b[0m  *(::Any, ::Any, \u001b[91m::Any\u001b[39m, \u001b[91m::Any...\u001b[39m) at operators.jl:538\u001b[39m\n\u001b[91m\u001b[0m  *(\u001b[91m::LinearAlgebra.Adjoint{var\"#s828\",var\"#s8281\"} where var\"#s8281\"<:(AbstractArray{T,1} where T) where var\"#s828\"<:Number\u001b[39m, ::AbstractArray{var\"#s827\",1} where var\"#s827\"<:Number) at C:\\buildbot\\worker\\package_win64\\build\\usr\\share\\julia\\stdlib\\v1.5\\LinearAlgebra\\src\\adjtrans.jl:283\u001b[39m\n\u001b[91m\u001b[0m  *(\u001b[91m::LinearAlgebra.Transpose{T,var\"#s828\"} where var\"#s828\"<:(AbstractArray{T,1} where T)\u001b[39m, ::AbstractArray{T,1}) where T<:Real at C:\\buildbot\\worker\\package_win64\\build\\usr\\share\\julia\\stdlib\\v1.5\\LinearAlgebra\\src\\adjtrans.jl:284\u001b[39m\n\u001b[91m\u001b[0m  ...\u001b[39m",
     "output_type": "error",
     "traceback": [
      "\u001b[91mMethodError: no method matching *(::Tuple{Float64,Float64}, ::Array{Int64,1})\u001b[39m\n\u001b[91m\u001b[0mClosest candidates are:\u001b[39m\n\u001b[91m\u001b[0m  *(::Any, ::Any, \u001b[91m::Any\u001b[39m, \u001b[91m::Any...\u001b[39m) at operators.jl:538\u001b[39m\n\u001b[91m\u001b[0m  *(\u001b[91m::LinearAlgebra.Adjoint{var\"#s828\",var\"#s8281\"} where var\"#s8281\"<:(AbstractArray{T,1} where T) where var\"#s828\"<:Number\u001b[39m, ::AbstractArray{var\"#s827\",1} where var\"#s827\"<:Number) at C:\\buildbot\\worker\\package_win64\\build\\usr\\share\\julia\\stdlib\\v1.5\\LinearAlgebra\\src\\adjtrans.jl:283\u001b[39m\n\u001b[91m\u001b[0m  *(\u001b[91m::LinearAlgebra.Transpose{T,var\"#s828\"} where var\"#s828\"<:(AbstractArray{T,1} where T)\u001b[39m, ::AbstractArray{T,1}) where T<:Real at C:\\buildbot\\worker\\package_win64\\build\\usr\\share\\julia\\stdlib\\v1.5\\LinearAlgebra\\src\\adjtrans.jl:284\u001b[39m\n\u001b[91m\u001b[0m  ...\u001b[39m",
      "",
      "Stacktrace:",
      " [1] line_search(::typeof(f), ::Array{Int64,1}, ::Array{Int64,1}) at .\\In[2]:5",
      " [2] top-level scope at In[6]:4",
      " [3] include_string(::Function, ::Module, ::String, ::String) at .\\loading.jl:1091"
     ]
    }
   ],
   "source": [
    "x = [1, 2, 3]\n",
    "d = [0, -1, -1]\n",
    "\n",
    "α, x_min = line_search(f, x, d)"
   ]
  },
  {
   "cell_type": "code",
   "execution_count": null,
   "metadata": {},
   "outputs": [],
   "source": []
  }
 ],
 "metadata": {
  "kernelspec": {
   "display_name": "Julia 1.5.3",
   "language": "julia",
   "name": "julia-1.5"
  },
  "language_info": {
   "file_extension": ".jl",
   "mimetype": "application/julia",
   "name": "julia",
   "version": "1.5.3"
  }
 },
 "nbformat": 4,
 "nbformat_minor": 4
}
