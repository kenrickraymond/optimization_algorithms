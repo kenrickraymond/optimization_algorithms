{
 "cells": [
  {
   "cell_type": "code",
   "execution_count": 1,
   "metadata": {},
   "outputs": [
    {
     "ename": "LoadError",
     "evalue": "\u001b[91mSystemError: opening file \"D:\\\\data\\\\dev\\\\quasar\\\\repo\\\\secant_algorithm.ipynb\": No such file or directory\u001b[39m",
     "output_type": "error",
     "traceback": [
      "\u001b[91mSystemError: opening file \"D:\\\\data\\\\dev\\\\quasar\\\\repo\\\\secant_algorithm.ipynb\": No such file or directory\u001b[39m",
      "",
      "Stacktrace:",
      " [1] systemerror(::String, ::Int32; extrainfo::Nothing) at .\\error.jl:168",
      " [2] #systemerror#48 at .\\error.jl:167 [inlined]",
      " [3] systemerror at .\\error.jl:167 [inlined]",
      " [4] open(::String; lock::Bool, read::Bool, write::Nothing, create::Nothing, truncate::Nothing, append::Nothing) at .\\iostream.jl:284",
      " [5] open(::String, ::String; lock::Bool) at .\\iostream.jl:346",
      " [6] open(::String, ::String) at .\\iostream.jl:346",
      " [7] open(::typeof(JSON.Parser.parse), ::String, ::Vararg{String,N} where N; kwargs::Base.Iterators.Pairs{Union{},Union{},Tuple{},NamedTuple{(),Tuple{}}}) at .\\io.jl:323",
      " [8] open at .\\io.jl:323 [inlined]",
      " [9] nbinclude(::Module, ::String; renumber::Bool, counters::UnitRange{Int64}, regex::Regex, anshook::typeof(identity), softscope::Bool) at C:\\Users\\quasa\\.julia\\packages\\NBInclude\\mNhzW\\src\\NBInclude.jl:61",
      " [10] nbinclude(::Module, ::String) at C:\\Users\\quasa\\.julia\\packages\\NBInclude\\mNhzW\\src\\NBInclude.jl:53",
      " [11] top-level scope at In[1]:2",
      " [12] include_string(::Function, ::Module, ::String, ::String) at .\\loading.jl:1091"
     ]
    }
   ],
   "source": [
    "using NBInclude\n",
    "@nbinclude(\"secant_algorithm.ipynb\")"
   ]
  },
  {
   "cell_type": "code",
   "execution_count": null,
   "metadata": {},
   "outputs": [],
   "source": []
  }
 ],
 "metadata": {
  "kernelspec": {
   "display_name": "Julia 1.5.3",
   "language": "julia",
   "name": "julia-1.5"
  },
  "language_info": {
   "file_extension": ".jl",
   "mimetype": "application/julia",
   "name": "julia",
   "version": "1.5.3"
  }
 },
 "nbformat": 4,
 "nbformat_minor": 4
}
