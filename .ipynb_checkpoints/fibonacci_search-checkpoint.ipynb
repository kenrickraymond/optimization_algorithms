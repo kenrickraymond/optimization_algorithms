{
 "cells": [
  {
   "cell_type": "markdown",
   "metadata": {},
   "source": [
    "## Fibonacci Search\n",
    "\n",
    "As in the golden section search, our goal is to select usccesive value of $\\rho_k$, $0 \\leq \\rho_k \\leq 1/2$ such that only the function evaluation is required at each stage. To derive the strategy for selecting evaluation points consider the figure below.\n",
    "\n",
    "<img src=\"./images/fibonacci.png\">\n",
    "\n",
    "It is sufficient to choose $\\rho_k$ such that\n",
    "\n",
    "\\begin{align*}\n",
    "\\rho_{k+1}(1-\\rho_k)&=1-2\\rho_k\\\\\n",
    "\\rho_{k+1}(1-\\rho_k)=(1-\\rho_k)-\\rho_k\\\\\n",
    "\\rho_{k+1} = 1 - \\frac{\\rho_k}{1-\\rho_k}\n",
    "\\end{align*}\n",
    "\n",
    "There are many sequences that satisfy the law of formation above and the condition $0 \\le \\rho_k \\le 1/2$. For example, the sequence $\\rho_1 = \\rho_2 = \\rho_3 = \\ldots = 1 - \\phi = (3 - \\sqrt{5})/2$ satisfies the conditions above and gives rise to the golden section search.\n",
    "\n",
    "For example,\n",
    "\n",
    "\\begin{align*}\n",
    "&1 - \\frac{3 - \\sqrt{5}}{\\sqrt{5} - 1}\\\\\n",
    "=& 1 - \\frac{(3-\\sqrt{5})(\\sqrt{5} + 1)}{5 - 1}\\\\\n",
    "=&1 - \\frac{3\\sqrt{5} + 3 - 5 - \\sqrt{5}}{4}\\\\\n",
    "=&1 - \\frac{2\\sqrt{5} - 2}{4}\\\\\n",
    "=&1 - \\frac{\\sqrt{5} - 1}{2}\\\\\n",
    "=&\\frac{2 - \\sqrt{5} + 1}{2}\\\\\n",
    "=&\\frac{3 - \\sqrt{5}}{2}\n",
    "\\end{align*}\n",
    "\n",
    "Thus, $\\rho_{k+1} = 1-\\frac{\\rho_k}{1 - \\rho_k}$ if $\\rho_k = \\frac{3 - \\sqrt{5}}{2}$ for all $k$.\n",
    "\n",
    "Suppose, we are given a sequence $\\rho_1,\\rho_2,\\ldots$ satisfying the condition above and we use this sequence in our search algorithm. Then, after $N$ iterations of the algorithm, the search interval is reduced by a factor of\n",
    "\n",
    "$$(1-\\rho_1)(1-\\rho_2)\\ldots(1-\\rho_N)$$\n",
    "\n",
    "Depending on the sequence $\\rho_1,\\rho_2,\\ldots,\\rho_N$ we get a different reduction factor. The natural question is as follows: What sequence $\\rho_1,\\rho_2,\\ldots,\\rho_N$ minimization the reduction factor above? This is a constrained optimization problem, that can be formally stated as folows - \n",
    "\n",
    "\\begin{align*}\n",
    "\\text{Minimize } \\quad & (1-\\rho_1)(1-\\rho_2)\\ldots (1-\\rho_N)\\\\\n",
    "\\text{subject to } \\quad & \\rho_{k+1} = 1 - \\frac{\\rho_k}{1-\\rho_k} && \\quad k=1,2,\\ldots,N-1\\\\\n",
    "& 0 \\le \\rho_k \\le \\frac{1}{2} && k=1,2,\\ldots,N\n",
    "\\end{align*}\n",
    "\n",
    "The Fibonacci sequence is given by the recurrence relation:\n",
    "\\begin{align*}\n",
    "F_{n+1} = \\begin{cases}\n",
    "1 \\quad & \\text{ if } n = 0,1 \\\\\n",
    "F_n + F_{n-1} \\quad & \\text{ if } n > 1\n",
    "\\end{cases}\n",
    "\\end{align*}\n",
    "\n",
    "Enlisting the first few elements of the Fibonacci sequence:\n",
    "\n",
    "\\begin{array}{cccccccc}\n",
    "F_1 & F_2 & F_3 & F_4 & F_5 & F_6 & F_7 &F_8\\\\\n",
    "\\hline\n",
    "1 & 2 & 3 & 5 & 8 & 13 & 21 & 34\n",
    "\\end{array}\n",
    "\n",
    "It turns out that the solution to the constrained optimization problem mentioned above is - \n",
    "\n",
    "\\begin{align*}\n",
    "\\rho_1 &= 1 - \\frac{F_N}{F_{N+1}}\\\\\n",
    "\\rho_2 &= 1 - \\frac{F_{N-1}}{F_{N}}\\\\\n",
    "\\vdots\\\\\n",
    "\\rho_k &= 1 - \\frac{F_{N-k+1}}{F_{N-k+2}}\\\\\n",
    "\\vdots\\\\\n",
    "\\rho_N &= 1 - \\frac{F_1}{F_2}\n",
    "\\end{align*}\n",
    "\n",
    "where $F_k$ is the $k$th fibonacci number. The resulting algorithm is called the Fibonacci search method. We present a proof for the optimality of the Fibonacci search method later in this section.\n",
    "\n",
    "In the Fibonacci method, the uncertainty range after $N$ iterations is reduced by - \n",
    "\n",
    "\\begin{align*}\n",
    "(1-\\rho_1)(1-\\rho_2)\\ldots(1-\\rho_N) = \\frac{F_N}{F_{N+1}}\\cdot \\frac{F_{N-1}}{F_N}\\cdots\\frac{F_1}{F_2} = \\frac{1}{F_{N+1}}\n",
    "\\end{align*}\n",
    "\n",
    "Because the Fibonacci method uses the optimzal values of $\\rho_1,\\rho_2,\\ldots,\\rho_N$, the reduction factor above is less than that of the golden section method. In other words, the Fibonacci method converges is better than the Golden Section search method, in that it gives a tighter error bound."
   ]
  },
  {
   "cell_type": "markdown",
   "metadata": {},
   "source": [
    "Suppose that we can query $f$ only twice. If we query $f$ on the one-third and two-third points of the interval, then we are guaranteed to remove one-third of our interval, regardless of the function $f$.\n",
    "\n",
    "<img src=\"./images/initial_guess.png\">\n",
    "\n",
    "We can guarantee a tighter bracket by moving our guesses towards the center. In the limit as $\\epsilon \\to 0$, we are guaranteed to shrink our guess by a factor of two as shown in the figure. In other words, as the process converges, our reduction factor approaches $1/2$. The points $c$ and $d$ come really really close to each other.\n",
    "\n",
    "<img src=\"./images/max_shrinkage.png\">\n",
    "\n",
    "In any iteration $k$, the search interval is shrunk to $1-\\rho_k$ times the original length. \n",
    "\n",
    "<img src=\"./images/iterations.png\">\n",
    "\n",
    "With three queries, we can shrink the interval by a factor of three. We first query $f$ on the one-third and two-third points on the interval, discard one-third of the interval, and then sample just next to the better sample as shown in the figure.\n",
    "\n",
    "<img src=\"./images/three_queries.png\">\n",
    "\n",
    "For $n$ queries, the length of the intervals are related to the Fibonacci sequence: $1,1,2,3,5,8,13,\\ldots$.\n",
    "\n",
    "<img src=\"./images/fibonacci_sequence.png\">"
   ]
  },
  {
   "cell_type": "markdown",
   "metadata": {},
   "source": [
    "We can easily deduce this mathematically. For instance, if $N=5$, \n",
    "\n",
    "\\begin{align*}\n",
    "I_2 &= (1- \\rho_1) I_1 = \\frac{F_5}{F_6}I_1 = \\frac{8}{13} I_1\\\\\n",
    "I_3 &= (1- \\rho_2) I_2 = \\frac{F_4}{F_5}I_2 = \\frac{5}{8} \\cdot \\frac{8}{13} I_1\\\\\n",
    "I_4 &= (1- \\rho_3) I_3 = \\frac{F_3}{F_4}I_3 = \\frac{3}{5}\\cdot \\frac{5}{8} \\cdot \\frac{8}{13} I_1\\\\\n",
    "I_5 &= (1- \\rho_4) I_4 = \\frac{F_2}{F_3}I_4 = \\frac{2}{3} \\cdot \\frac{3}{5}\\cdot \\frac{5}{8} \\cdot \\frac{8}{13} I_1\\\\\n",
    "I_6 &= (1- \\rho_5) I_4 = \\frac{F_1}{F_2}I_5 = \\frac{1}{2} \\cdot \\frac{2}{3} \\cdot \\frac{3}{5}\\cdot \\frac{5}{8} \\cdot \\frac{8}{13} I_1 = \\frac{1}{13}I_1\n",
    "\\end{align*}\n",
    "\n",
    "So, clearly $I_1 = I_2 + I_3$, $I_2 = I_3 + I_4$, $\\ldots$ and so forth."
   ]
  },
  {
   "cell_type": "markdown",
   "metadata": {},
   "source": [
    "The Fibonacci sequence can be determined analytically using Binet's formula:\n",
    "\n",
    "$$F_n = \\frac{\\phi^n - (1-\\phi)^n}{\\sqrt{5}}$$\n",
    "\n",
    "where $\\phi=(1+\\sqrt{5})/2 \\approx 1.61803$ is the golden ratio.\n",
    "\n",
    "The ratio between successive values of the Fibonacci sequence is:\n",
    "\n",
    "$$\\frac{F_n}{F_{n-1}} = \\phi \\left(\\frac{1-s^{n+1}}{1-s^n}\\right)$$\n",
    "\n",
    "where $s = (1-\\sqrt{5})/(1+\\sqrt{5}) \\approx -0.382$"
   ]
  },
  {
   "cell_type": "code",
   "execution_count": 32,
   "metadata": {},
   "outputs": [
    {
     "data": {
      "text/plain": [
       "fbs (generic function with 1 method)"
      ]
     },
     "execution_count": 32,
     "metadata": {},
     "output_type": "execute_result"
    }
   ],
   "source": [
    "function fbs(f, a, b, N)\n",
    "    \n",
    "    function F(n)\n",
    "        # We choose F₀=1, F₁=1, F₂=2, F₃=3, ...\n",
    "        ϕ = (1 + √5)/2\n",
    "        Fₙ = (ϕ^(n+1) - (1-ϕ)^(n+1))/√5\n",
    "        return Fₙ\n",
    "    end\n",
    "    \n",
    "    ρ = 1 - F(N)/F(N+1)\n",
    "    d = (1-ρ)*b + ρ*a\n",
    "    fd = f(d)\n",
    "    \n",
    "    k = 1\n",
    "    while k <= N\n",
    "        c = ρ*b + (1-ρ)*a\n",
    "        fc = f(c)\n",
    "        println(\"k=\",k,\",a=\",a,\",c=\",c,\",d=\",d,\",b=\",b,\",fc=\",fc,\",fd=\",fd)\n",
    "        if (fc < fd)\n",
    "            d, b, fd = c, d, fc\n",
    "        else\n",
    "            a, b = b, c\n",
    "        end\n",
    "        \n",
    "        k = k + 1\n",
    "        ρ = 1 - F(N - k + 1)/F(N - k + 2)\n",
    "    end\n",
    "    return a < b ? (a,b) : (b,a)\n",
    "end"
   ]
  },
  {
   "cell_type": "code",
   "execution_count": 12,
   "metadata": {},
   "outputs": [
    {
     "data": {
      "image/svg+xml": [
       "<?xml version=\"1.0\" encoding=\"utf-8\"?>\n",
       "<svg xmlns=\"http://www.w3.org/2000/svg\" xmlns:xlink=\"http://www.w3.org/1999/xlink\" width=\"600\" height=\"400\" viewBox=\"0 0 2400 1600\">\n",
       "<defs>\n",
       "  <clipPath id=\"clip180\">\n",
       "    <rect x=\"0\" y=\"0\" width=\"2400\" height=\"1600\"/>\n",
       "  </clipPath>\n",
       "</defs>\n",
       "<path clip-path=\"url(#clip180)\" d=\"\n",
       "M0 1600 L2400 1600 L2400 0 L0 0  Z\n",
       "  \" fill=\"#ffffff\" fill-rule=\"evenodd\" fill-opacity=\"1\"/>\n",
       "<defs>\n",
       "  <clipPath id=\"clip181\">\n",
       "    <rect x=\"480\" y=\"0\" width=\"1681\" height=\"1600\"/>\n",
       "  </clipPath>\n",
       "</defs>\n",
       "<path clip-path=\"url(#clip180)\" d=\"\n",
       "M178.867 1486.45 L2352.76 1486.45 L2352.76 47.2441 L178.867 47.2441  Z\n",
       "  \" fill=\"#ffffff\" fill-rule=\"evenodd\" fill-opacity=\"1\"/>\n",
       "<defs>\n",
       "  <clipPath id=\"clip182\">\n",
       "    <rect x=\"178\" y=\"47\" width=\"2175\" height=\"1440\"/>\n",
       "  </clipPath>\n",
       "</defs>\n",
       "<polyline clip-path=\"url(#clip182)\" style=\"stroke:#000000; stroke-width:2; stroke-opacity:0.1; fill:none\" points=\"\n",
       "  240.392,1486.45 240.392,47.2441 \n",
       "  \"/>\n",
       "<polyline clip-path=\"url(#clip182)\" style=\"stroke:#000000; stroke-width:2; stroke-opacity:0.1; fill:none\" points=\"\n",
       "  753.102,1486.45 753.102,47.2441 \n",
       "  \"/>\n",
       "<polyline clip-path=\"url(#clip182)\" style=\"stroke:#000000; stroke-width:2; stroke-opacity:0.1; fill:none\" points=\"\n",
       "  1265.81,1486.45 1265.81,47.2441 \n",
       "  \"/>\n",
       "<polyline clip-path=\"url(#clip182)\" style=\"stroke:#000000; stroke-width:2; stroke-opacity:0.1; fill:none\" points=\"\n",
       "  1778.52,1486.45 1778.52,47.2441 \n",
       "  \"/>\n",
       "<polyline clip-path=\"url(#clip182)\" style=\"stroke:#000000; stroke-width:2; stroke-opacity:0.1; fill:none\" points=\"\n",
       "  2291.23,1486.45 2291.23,47.2441 \n",
       "  \"/>\n",
       "<polyline clip-path=\"url(#clip180)\" style=\"stroke:#000000; stroke-width:4; stroke-opacity:1; fill:none\" points=\"\n",
       "  178.867,1486.45 2352.76,1486.45 \n",
       "  \"/>\n",
       "<polyline clip-path=\"url(#clip180)\" style=\"stroke:#000000; stroke-width:4; stroke-opacity:1; fill:none\" points=\"\n",
       "  240.392,1486.45 240.392,1469.18 \n",
       "  \"/>\n",
       "<polyline clip-path=\"url(#clip180)\" style=\"stroke:#000000; stroke-width:4; stroke-opacity:1; fill:none\" points=\"\n",
       "  753.102,1486.45 753.102,1469.18 \n",
       "  \"/>\n",
       "<polyline clip-path=\"url(#clip180)\" style=\"stroke:#000000; stroke-width:4; stroke-opacity:1; fill:none\" points=\"\n",
       "  1265.81,1486.45 1265.81,1469.18 \n",
       "  \"/>\n",
       "<polyline clip-path=\"url(#clip180)\" style=\"stroke:#000000; stroke-width:4; stroke-opacity:1; fill:none\" points=\"\n",
       "  1778.52,1486.45 1778.52,1469.18 \n",
       "  \"/>\n",
       "<polyline clip-path=\"url(#clip180)\" style=\"stroke:#000000; stroke-width:4; stroke-opacity:1; fill:none\" points=\"\n",
       "  2291.23,1486.45 2291.23,1469.18 \n",
       "  \"/>\n",
       "<path clip-path=\"url(#clip180)\" d=\"M 0 0 M217.776 1515.64 Q214.165 1515.64 212.336 1519.2 Q210.531 1522.75 210.531 1529.87 Q210.531 1536.98 212.336 1540.55 Q214.165 1544.09 217.776 1544.09 Q221.41 1544.09 223.216 1540.55 Q225.045 1536.98 225.045 1529.87 Q225.045 1522.75 223.216 1519.2 Q221.41 1515.64 217.776 1515.64 M217.776 1511.93 Q223.586 1511.93 226.642 1516.54 Q229.721 1521.12 229.721 1529.87 Q229.721 1538.6 226.642 1543.21 Q223.586 1547.79 217.776 1547.79 Q211.966 1547.79 208.887 1543.21 Q205.832 1538.6 205.832 1529.87 Q205.832 1521.12 208.887 1516.54 Q211.966 1511.93 217.776 1511.93 Z\" fill=\"#000000\" fill-rule=\"evenodd\" fill-opacity=\"1\" /><path clip-path=\"url(#clip180)\" d=\"M 0 0 M237.938 1541.24 L242.822 1541.24 L242.822 1547.12 L237.938 1547.12 L237.938 1541.24 Z\" fill=\"#000000\" fill-rule=\"evenodd\" fill-opacity=\"1\" /><path clip-path=\"url(#clip180)\" d=\"M 0 0 M263.007 1515.64 Q259.396 1515.64 257.568 1519.2 Q255.762 1522.75 255.762 1529.87 Q255.762 1536.98 257.568 1540.55 Q259.396 1544.09 263.007 1544.09 Q266.642 1544.09 268.447 1540.55 Q270.276 1536.98 270.276 1529.87 Q270.276 1522.75 268.447 1519.2 Q266.642 1515.64 263.007 1515.64 M263.007 1511.93 Q268.818 1511.93 271.873 1516.54 Q274.952 1521.12 274.952 1529.87 Q274.952 1538.6 271.873 1543.21 Q268.818 1547.79 263.007 1547.79 Q257.197 1547.79 254.119 1543.21 Q251.063 1538.6 251.063 1529.87 Q251.063 1521.12 254.119 1516.54 Q257.197 1511.93 263.007 1511.93 Z\" fill=\"#000000\" fill-rule=\"evenodd\" fill-opacity=\"1\" /><path clip-path=\"url(#clip180)\" d=\"M 0 0 M730.984 1515.64 Q727.373 1515.64 725.544 1519.2 Q723.738 1522.75 723.738 1529.87 Q723.738 1536.98 725.544 1540.55 Q727.373 1544.09 730.984 1544.09 Q734.618 1544.09 736.423 1540.55 Q738.252 1536.98 738.252 1529.87 Q738.252 1522.75 736.423 1519.2 Q734.618 1515.64 730.984 1515.64 M730.984 1511.93 Q736.794 1511.93 739.849 1516.54 Q742.928 1521.12 742.928 1529.87 Q742.928 1538.6 739.849 1543.21 Q736.794 1547.79 730.984 1547.79 Q725.173 1547.79 722.095 1543.21 Q719.039 1538.6 719.039 1529.87 Q719.039 1521.12 722.095 1516.54 Q725.173 1511.93 730.984 1511.93 Z\" fill=\"#000000\" fill-rule=\"evenodd\" fill-opacity=\"1\" /><path clip-path=\"url(#clip180)\" d=\"M 0 0 M751.146 1541.24 L756.03 1541.24 L756.03 1547.12 L751.146 1547.12 L751.146 1541.24 Z\" fill=\"#000000\" fill-rule=\"evenodd\" fill-opacity=\"1\" /><path clip-path=\"url(#clip180)\" d=\"M 0 0 M766.261 1512.56 L784.618 1512.56 L784.618 1516.5 L770.544 1516.5 L770.544 1524.97 Q771.562 1524.62 772.581 1524.46 Q773.599 1524.27 774.618 1524.27 Q780.405 1524.27 783.784 1527.44 Q787.164 1530.62 787.164 1536.03 Q787.164 1541.61 783.692 1544.71 Q780.219 1547.79 773.9 1547.79 Q771.724 1547.79 769.456 1547.42 Q767.21 1547.05 764.803 1546.31 L764.803 1541.61 Q766.886 1542.74 769.108 1543.3 Q771.331 1543.86 773.807 1543.86 Q777.812 1543.86 780.15 1541.75 Q782.488 1539.64 782.488 1536.03 Q782.488 1532.42 780.15 1530.31 Q777.812 1528.21 773.807 1528.21 Q771.932 1528.21 770.057 1528.62 Q768.206 1529.04 766.261 1529.92 L766.261 1512.56 Z\" fill=\"#000000\" fill-rule=\"evenodd\" fill-opacity=\"1\" /><path clip-path=\"url(#clip180)\" d=\"M 0 0 M1232.96 1543.18 L1240.6 1543.18 L1240.6 1516.82 L1232.29 1518.49 L1232.29 1514.23 L1240.56 1512.56 L1245.23 1512.56 L1245.23 1543.18 L1252.87 1543.18 L1252.87 1547.12 L1232.96 1547.12 L1232.96 1543.18 Z\" fill=\"#000000\" fill-rule=\"evenodd\" fill-opacity=\"1\" /><path clip-path=\"url(#clip180)\" d=\"M 0 0 M1262.32 1541.24 L1267.2 1541.24 L1267.2 1547.12 L1262.32 1547.12 L1262.32 1541.24 Z\" fill=\"#000000\" fill-rule=\"evenodd\" fill-opacity=\"1\" /><path clip-path=\"url(#clip180)\" d=\"M 0 0 M1287.39 1515.64 Q1283.77 1515.64 1281.95 1519.2 Q1280.14 1522.75 1280.14 1529.87 Q1280.14 1536.98 1281.95 1540.55 Q1283.77 1544.09 1287.39 1544.09 Q1291.02 1544.09 1292.83 1540.55 Q1294.65 1536.98 1294.65 1529.87 Q1294.65 1522.75 1292.83 1519.2 Q1291.02 1515.64 1287.39 1515.64 M1287.39 1511.93 Q1293.2 1511.93 1296.25 1516.54 Q1299.33 1521.12 1299.33 1529.87 Q1299.33 1538.6 1296.25 1543.21 Q1293.2 1547.79 1287.39 1547.79 Q1281.58 1547.79 1278.5 1543.21 Q1275.44 1538.6 1275.44 1529.87 Q1275.44 1521.12 1278.5 1516.54 Q1281.58 1511.93 1287.39 1511.93 Z\" fill=\"#000000\" fill-rule=\"evenodd\" fill-opacity=\"1\" /><path clip-path=\"url(#clip180)\" d=\"M 0 0 M1746.17 1543.18 L1753.81 1543.18 L1753.81 1516.82 L1745.5 1518.49 L1745.5 1514.23 L1753.76 1512.56 L1758.44 1512.56 L1758.44 1543.18 L1766.08 1543.18 L1766.08 1547.12 L1746.17 1547.12 L1746.17 1543.18 Z\" fill=\"#000000\" fill-rule=\"evenodd\" fill-opacity=\"1\" /><path clip-path=\"url(#clip180)\" d=\"M 0 0 M1775.52 1541.24 L1780.41 1541.24 L1780.41 1547.12 L1775.52 1547.12 L1775.52 1541.24 Z\" fill=\"#000000\" fill-rule=\"evenodd\" fill-opacity=\"1\" /><path clip-path=\"url(#clip180)\" d=\"M 0 0 M1790.64 1512.56 L1809 1512.56 L1809 1516.5 L1794.92 1516.5 L1794.92 1524.97 Q1795.94 1524.62 1796.96 1524.46 Q1797.98 1524.27 1799 1524.27 Q1804.78 1524.27 1808.16 1527.44 Q1811.54 1530.62 1811.54 1536.03 Q1811.54 1541.61 1808.07 1544.71 Q1804.6 1547.79 1798.28 1547.79 Q1796.1 1547.79 1793.83 1547.42 Q1791.59 1547.05 1789.18 1546.31 L1789.18 1541.61 Q1791.26 1542.74 1793.49 1543.3 Q1795.71 1543.86 1798.19 1543.86 Q1802.19 1543.86 1804.53 1541.75 Q1806.87 1539.64 1806.87 1536.03 Q1806.87 1532.42 1804.53 1530.31 Q1802.19 1528.21 1798.19 1528.21 Q1796.31 1528.21 1794.44 1528.62 Q1792.58 1529.04 1790.64 1529.92 L1790.64 1512.56 Z\" fill=\"#000000\" fill-rule=\"evenodd\" fill-opacity=\"1\" /><path clip-path=\"url(#clip180)\" d=\"M 0 0 M2262.47 1543.18 L2278.79 1543.18 L2278.79 1547.12 L2256.84 1547.12 L2256.84 1543.18 Q2259.51 1540.43 2264.09 1535.8 Q2268.7 1531.15 2269.88 1529.81 Q2272.12 1527.28 2273 1525.55 Q2273.9 1523.79 2273.9 1522.1 Q2273.9 1519.34 2271.96 1517.61 Q2270.04 1515.87 2266.94 1515.87 Q2264.74 1515.87 2262.28 1516.63 Q2259.85 1517.4 2257.08 1518.95 L2257.08 1514.23 Q2259.9 1513.09 2262.35 1512.51 Q2264.81 1511.93 2266.84 1511.93 Q2272.21 1511.93 2275.41 1514.62 Q2278.6 1517.31 2278.6 1521.8 Q2278.6 1523.93 2277.79 1525.85 Q2277.01 1527.74 2274.9 1530.34 Q2274.32 1531.01 2271.22 1534.23 Q2268.12 1537.42 2262.47 1543.18 Z\" fill=\"#000000\" fill-rule=\"evenodd\" fill-opacity=\"1\" /><path clip-path=\"url(#clip180)\" d=\"M 0 0 M2288.6 1541.24 L2293.49 1541.24 L2293.49 1547.12 L2288.6 1547.12 L2288.6 1541.24 Z\" fill=\"#000000\" fill-rule=\"evenodd\" fill-opacity=\"1\" /><path clip-path=\"url(#clip180)\" d=\"M 0 0 M2313.67 1515.64 Q2310.06 1515.64 2308.23 1519.2 Q2306.43 1522.75 2306.43 1529.87 Q2306.43 1536.98 2308.23 1540.55 Q2310.06 1544.09 2313.67 1544.09 Q2317.31 1544.09 2319.11 1540.55 Q2320.94 1536.98 2320.94 1529.87 Q2320.94 1522.75 2319.11 1519.2 Q2317.31 1515.64 2313.67 1515.64 M2313.67 1511.93 Q2319.48 1511.93 2322.54 1516.54 Q2325.62 1521.12 2325.62 1529.87 Q2325.62 1538.6 2322.54 1543.21 Q2319.48 1547.79 2313.67 1547.79 Q2307.86 1547.79 2304.78 1543.21 Q2301.73 1538.6 2301.73 1529.87 Q2301.73 1521.12 2304.78 1516.54 Q2307.86 1511.93 2313.67 1511.93 Z\" fill=\"#000000\" fill-rule=\"evenodd\" fill-opacity=\"1\" /><polyline clip-path=\"url(#clip182)\" style=\"stroke:#000000; stroke-width:2; stroke-opacity:0.1; fill:none\" points=\"\n",
       "  178.867,1475.96 2352.76,1475.96 \n",
       "  \"/>\n",
       "<polyline clip-path=\"url(#clip182)\" style=\"stroke:#000000; stroke-width:2; stroke-opacity:0.1; fill:none\" points=\"\n",
       "  178.867,1236.65 2352.76,1236.65 \n",
       "  \"/>\n",
       "<polyline clip-path=\"url(#clip182)\" style=\"stroke:#000000; stroke-width:2; stroke-opacity:0.1; fill:none\" points=\"\n",
       "  178.867,997.345 2352.76,997.345 \n",
       "  \"/>\n",
       "<polyline clip-path=\"url(#clip182)\" style=\"stroke:#000000; stroke-width:2; stroke-opacity:0.1; fill:none\" points=\"\n",
       "  178.867,758.037 2352.76,758.037 \n",
       "  \"/>\n",
       "<polyline clip-path=\"url(#clip182)\" style=\"stroke:#000000; stroke-width:2; stroke-opacity:0.1; fill:none\" points=\"\n",
       "  178.867,518.73 2352.76,518.73 \n",
       "  \"/>\n",
       "<polyline clip-path=\"url(#clip182)\" style=\"stroke:#000000; stroke-width:2; stroke-opacity:0.1; fill:none\" points=\"\n",
       "  178.867,279.422 2352.76,279.422 \n",
       "  \"/>\n",
       "<polyline clip-path=\"url(#clip180)\" style=\"stroke:#000000; stroke-width:4; stroke-opacity:1; fill:none\" points=\"\n",
       "  178.867,1486.45 178.867,47.2441 \n",
       "  \"/>\n",
       "<polyline clip-path=\"url(#clip180)\" style=\"stroke:#000000; stroke-width:4; stroke-opacity:1; fill:none\" points=\"\n",
       "  178.867,1475.96 204.953,1475.96 \n",
       "  \"/>\n",
       "<polyline clip-path=\"url(#clip180)\" style=\"stroke:#000000; stroke-width:4; stroke-opacity:1; fill:none\" points=\"\n",
       "  178.867,1236.65 204.953,1236.65 \n",
       "  \"/>\n",
       "<polyline clip-path=\"url(#clip180)\" style=\"stroke:#000000; stroke-width:4; stroke-opacity:1; fill:none\" points=\"\n",
       "  178.867,997.345 204.953,997.345 \n",
       "  \"/>\n",
       "<polyline clip-path=\"url(#clip180)\" style=\"stroke:#000000; stroke-width:4; stroke-opacity:1; fill:none\" points=\"\n",
       "  178.867,758.037 204.953,758.037 \n",
       "  \"/>\n",
       "<polyline clip-path=\"url(#clip180)\" style=\"stroke:#000000; stroke-width:4; stroke-opacity:1; fill:none\" points=\"\n",
       "  178.867,518.73 204.953,518.73 \n",
       "  \"/>\n",
       "<polyline clip-path=\"url(#clip180)\" style=\"stroke:#000000; stroke-width:4; stroke-opacity:1; fill:none\" points=\"\n",
       "  178.867,279.422 204.953,279.422 \n",
       "  \"/>\n",
       "<path clip-path=\"url(#clip180)\" d=\"M 0 0 M51.9875 1476.41 L81.6633 1476.41 L81.6633 1480.35 L51.9875 1480.35 L51.9875 1476.41 Z\" fill=\"#000000\" fill-rule=\"evenodd\" fill-opacity=\"1\" /><path clip-path=\"url(#clip180)\" d=\"M 0 0 M95.7836 1489.3 L112.103 1489.3 L112.103 1493.24 L90.1586 1493.24 L90.1586 1489.3 Q92.8206 1486.55 97.4039 1481.92 Q102.01 1477.27 103.191 1475.92 Q105.436 1473.4 106.316 1471.67 Q107.219 1469.91 107.219 1468.22 Q107.219 1465.46 105.274 1463.73 Q103.353 1461.99 100.251 1461.99 Q98.0521 1461.99 95.5984 1462.75 Q93.1678 1463.52 90.3901 1465.07 L90.3901 1460.35 Q93.2141 1459.21 95.6678 1458.63 Q98.1215 1458.05 100.159 1458.05 Q105.529 1458.05 108.723 1460.74 Q111.918 1463.42 111.918 1467.92 Q111.918 1470.05 111.108 1471.97 Q110.321 1473.86 108.214 1476.46 Q107.635 1477.13 104.534 1480.35 Q101.432 1483.54 95.7836 1489.3 Z\" fill=\"#000000\" fill-rule=\"evenodd\" fill-opacity=\"1\" /><path clip-path=\"url(#clip180)\" d=\"M 0 0 M121.964 1458.68 L140.32 1458.68 L140.32 1462.61 L126.246 1462.61 L126.246 1471.09 Q127.265 1470.74 128.283 1470.58 Q129.302 1470.39 130.32 1470.39 Q136.107 1470.39 139.487 1473.56 Q142.867 1476.74 142.867 1482.15 Q142.867 1487.73 139.394 1490.83 Q135.922 1493.91 129.603 1493.91 Q127.427 1493.91 125.158 1493.54 Q122.913 1493.17 120.506 1492.43 L120.506 1487.73 Q122.589 1488.86 124.811 1489.42 Q127.033 1489.98 129.51 1489.98 Q133.515 1489.98 135.853 1487.87 Q138.191 1485.76 138.191 1482.15 Q138.191 1478.54 135.853 1476.43 Q133.515 1474.33 129.51 1474.33 Q127.635 1474.33 125.76 1474.74 Q123.908 1475.16 121.964 1476.04 L121.964 1458.68 Z\" fill=\"#000000\" fill-rule=\"evenodd\" fill-opacity=\"1\" /><path clip-path=\"url(#clip180)\" d=\"M 0 0 M50.9921 1237.1 L80.6679 1237.1 L80.6679 1241.04 L50.9921 1241.04 L50.9921 1237.1 Z\" fill=\"#000000\" fill-rule=\"evenodd\" fill-opacity=\"1\" /><path clip-path=\"url(#clip180)\" d=\"M 0 0 M94.7882 1250 L111.108 1250 L111.108 1253.93 L89.1632 1253.93 L89.1632 1250 Q91.8252 1247.24 96.4085 1242.61 Q101.015 1237.96 102.196 1236.62 Q104.441 1234.09 105.321 1232.36 Q106.223 1230.6 106.223 1228.91 Q106.223 1226.15 104.279 1224.42 Q102.358 1222.68 99.2558 1222.68 Q97.0567 1222.68 94.603 1223.45 Q92.1725 1224.21 89.3947 1225.76 L89.3947 1221.04 Q92.2188 1219.9 94.6724 1219.33 Q97.1261 1218.75 99.1632 1218.75 Q104.534 1218.75 107.728 1221.43 Q110.922 1224.12 110.922 1228.61 Q110.922 1230.74 110.112 1232.66 Q109.325 1234.56 107.219 1237.15 Q106.64 1237.82 103.538 1241.04 Q100.436 1244.23 94.7882 1250 Z\" fill=\"#000000\" fill-rule=\"evenodd\" fill-opacity=\"1\" /><path clip-path=\"url(#clip180)\" d=\"M 0 0 M130.922 1222.45 Q127.311 1222.45 125.482 1226.02 Q123.677 1229.56 123.677 1236.69 Q123.677 1243.79 125.482 1247.36 Q127.311 1250.9 130.922 1250.9 Q134.556 1250.9 136.362 1247.36 Q138.191 1243.79 138.191 1236.69 Q138.191 1229.56 136.362 1226.02 Q134.556 1222.45 130.922 1222.45 M130.922 1218.75 Q136.732 1218.75 139.788 1223.35 Q142.867 1227.94 142.867 1236.69 Q142.867 1245.41 139.788 1250.02 Q136.732 1254.6 130.922 1254.6 Q125.112 1254.6 122.033 1250.02 Q118.978 1245.41 118.978 1236.69 Q118.978 1227.94 122.033 1223.35 Q125.112 1218.75 130.922 1218.75 Z\" fill=\"#000000\" fill-rule=\"evenodd\" fill-opacity=\"1\" /><path clip-path=\"url(#clip180)\" d=\"M 0 0 M51.9875 997.796 L81.6633 997.796 L81.6633 1001.73 L51.9875 1001.73 L51.9875 997.796 Z\" fill=\"#000000\" fill-rule=\"evenodd\" fill-opacity=\"1\" /><path clip-path=\"url(#clip180)\" d=\"M 0 0 M92.566 1010.69 L100.205 1010.69 L100.205 984.324 L91.8947 985.991 L91.8947 981.731 L100.159 980.065 L104.834 980.065 L104.834 1010.69 L112.473 1010.69 L112.473 1014.62 L92.566 1014.62 L92.566 1010.69 Z\" fill=\"#000000\" fill-rule=\"evenodd\" fill-opacity=\"1\" /><path clip-path=\"url(#clip180)\" d=\"M 0 0 M121.964 980.065 L140.32 980.065 L140.32 984 L126.246 984 L126.246 992.472 Q127.265 992.125 128.283 991.963 Q129.302 991.778 130.32 991.778 Q136.107 991.778 139.487 994.949 Q142.867 998.12 142.867 1003.54 Q142.867 1009.12 139.394 1012.22 Q135.922 1015.3 129.603 1015.3 Q127.427 1015.3 125.158 1014.93 Q122.913 1014.56 120.506 1013.81 L120.506 1009.12 Q122.589 1010.25 124.811 1010.81 Q127.033 1011.36 129.51 1011.36 Q133.515 1011.36 135.853 1009.25 Q138.191 1007.15 138.191 1003.54 Q138.191 999.926 135.853 997.819 Q133.515 995.713 129.51 995.713 Q127.635 995.713 125.76 996.129 Q123.908 996.546 121.964 997.426 L121.964 980.065 Z\" fill=\"#000000\" fill-rule=\"evenodd\" fill-opacity=\"1\" /><path clip-path=\"url(#clip180)\" d=\"M 0 0 M50.9921 758.489 L80.6679 758.489 L80.6679 762.424 L50.9921 762.424 L50.9921 758.489 Z\" fill=\"#000000\" fill-rule=\"evenodd\" fill-opacity=\"1\" /><path clip-path=\"url(#clip180)\" d=\"M 0 0 M91.5706 771.382 L99.2095 771.382 L99.2095 745.016 L90.8993 746.683 L90.8993 742.424 L99.1632 740.757 L103.839 740.757 L103.839 771.382 L111.478 771.382 L111.478 775.317 L91.5706 775.317 L91.5706 771.382 Z\" fill=\"#000000\" fill-rule=\"evenodd\" fill-opacity=\"1\" /><path clip-path=\"url(#clip180)\" d=\"M 0 0 M130.922 743.836 Q127.311 743.836 125.482 747.401 Q123.677 750.942 123.677 758.072 Q123.677 765.178 125.482 768.743 Q127.311 772.285 130.922 772.285 Q134.556 772.285 136.362 768.743 Q138.191 765.178 138.191 758.072 Q138.191 750.942 136.362 747.401 Q134.556 743.836 130.922 743.836 M130.922 740.132 Q136.732 740.132 139.788 744.739 Q142.867 749.322 142.867 758.072 Q142.867 766.799 139.788 771.405 Q136.732 775.988 130.922 775.988 Q125.112 775.988 122.033 771.405 Q118.978 766.799 118.978 758.072 Q118.978 749.322 122.033 744.739 Q125.112 740.132 130.922 740.132 Z\" fill=\"#000000\" fill-rule=\"evenodd\" fill-opacity=\"1\" /><path clip-path=\"url(#clip180)\" d=\"M 0 0 M82.1494 519.181 L111.825 519.181 L111.825 523.116 L82.1494 523.116 L82.1494 519.181 Z\" fill=\"#000000\" fill-rule=\"evenodd\" fill-opacity=\"1\" /><path clip-path=\"url(#clip180)\" d=\"M 0 0 M121.964 501.45 L140.32 501.45 L140.32 505.385 L126.246 505.385 L126.246 513.857 Q127.265 513.51 128.283 513.348 Q129.302 513.163 130.32 513.163 Q136.107 513.163 139.487 516.334 Q142.867 519.505 142.867 524.922 Q142.867 530.5 139.394 533.602 Q135.922 536.681 129.603 536.681 Q127.427 536.681 125.158 536.311 Q122.913 535.94 120.506 535.2 L120.506 530.5 Q122.589 531.635 124.811 532.19 Q127.033 532.746 129.51 532.746 Q133.515 532.746 135.853 530.639 Q138.191 528.533 138.191 524.922 Q138.191 521.311 135.853 519.204 Q133.515 517.098 129.51 517.098 Q127.635 517.098 125.76 517.514 Q123.908 517.931 121.964 518.811 L121.964 501.45 Z\" fill=\"#000000\" fill-rule=\"evenodd\" fill-opacity=\"1\" /><path clip-path=\"url(#clip180)\" d=\"M 0 0 M130.922 265.221 Q127.311 265.221 125.482 268.786 Q123.677 272.327 123.677 279.457 Q123.677 286.563 125.482 290.128 Q127.311 293.67 130.922 293.67 Q134.556 293.67 136.362 290.128 Q138.191 286.563 138.191 279.457 Q138.191 272.327 136.362 268.786 Q134.556 265.221 130.922 265.221 M130.922 261.517 Q136.732 261.517 139.788 266.124 Q142.867 270.707 142.867 279.457 Q142.867 288.184 139.788 292.79 Q136.732 297.374 130.922 297.374 Q125.112 297.374 122.033 292.79 Q118.978 288.184 118.978 279.457 Q118.978 270.707 122.033 266.124 Q125.112 261.517 130.922 261.517 Z\" fill=\"#000000\" fill-rule=\"evenodd\" fill-opacity=\"1\" /><polyline clip-path=\"url(#clip182)\" style=\"stroke:#009af9; stroke-width:4; stroke-opacity:1; fill:none\" points=\"\n",
       "  240.392,279.422 261.107,345.939 281.823,410.144 302.538,472.072 323.254,531.753 343.97,589.222 364.685,644.511 385.401,697.651 406.116,748.674 426.832,797.612 \n",
       "  447.547,844.496 468.263,889.359 488.978,932.231 509.694,973.142 530.409,1012.12 551.125,1049.21 571.841,1084.42 592.556,1117.8 613.272,1149.37 633.987,1179.16 \n",
       "  654.703,1207.2 675.418,1233.52 696.134,1258.16 716.849,1281.13 737.565,1302.47 758.28,1322.2 778.996,1340.36 799.712,1356.98 820.427,1372.07 841.143,1385.68 \n",
       "  861.858,1397.82 882.574,1408.52 903.289,1417.82 924.005,1425.73 944.72,1432.3 965.436,1437.53 986.151,1441.46 1006.87,1444.12 1027.58,1445.53 1048.3,1445.72 \n",
       "  1069.01,1444.71 1089.73,1442.52 1110.44,1439.2 1131.16,1434.75 1151.88,1429.21 1172.59,1422.59 1193.31,1414.93 1214.02,1406.25 1234.74,1396.57 1255.45,1385.92 \n",
       "  1276.17,1374.32 1296.88,1361.79 1317.6,1348.36 1338.32,1334.05 1359.03,1318.89 1379.75,1302.89 1400.46,1286.08 1421.18,1268.49 1441.89,1250.12 1462.61,1231.02 \n",
       "  1483.32,1211.19 1504.04,1190.67 1524.76,1169.46 1545.47,1147.6 1566.19,1125.11 1586.9,1102 1607.62,1078.3 1628.33,1054.02 1649.05,1029.19 1669.76,1003.83 \n",
       "  1690.48,977.955 1711.2,951.589 1731.91,924.75 1752.63,897.458 1773.34,869.731 1794.06,841.59 1814.77,813.053 1835.49,784.138 1856.2,754.865 1876.92,725.251 \n",
       "  1897.64,695.314 1918.35,665.073 1939.07,634.546 1959.78,603.749 1980.5,572.7 2001.21,541.417 2021.93,509.916 2042.64,478.214 2063.36,446.328 2084.08,414.274 \n",
       "  2104.79,382.069 2125.51,349.728 2146.22,317.267 2166.94,284.702 2187.65,252.048 2208.37,219.321 2229.08,186.535 2249.8,153.706 2270.52,120.848 2291.23,87.9763 \n",
       "  \n",
       "  \"/>\n",
       "<path clip-path=\"url(#clip180)\" d=\"\n",
       "M1986.32 216.178 L2280.29 216.178 L2280.29 95.2176 L1986.32 95.2176  Z\n",
       "  \" fill=\"#ffffff\" fill-rule=\"evenodd\" fill-opacity=\"1\"/>\n",
       "<polyline clip-path=\"url(#clip180)\" style=\"stroke:#000000; stroke-width:4; stroke-opacity:1; fill:none\" points=\"\n",
       "  1986.32,216.178 2280.29,216.178 2280.29,95.2176 1986.32,95.2176 1986.32,216.178 \n",
       "  \"/>\n",
       "<polyline clip-path=\"url(#clip180)\" style=\"stroke:#009af9; stroke-width:4; stroke-opacity:1; fill:none\" points=\"\n",
       "  2010.47,155.698 2155.4,155.698 \n",
       "  \"/>\n",
       "<path clip-path=\"url(#clip180)\" d=\"M 0 0 M2193.4 175.385 Q2191.59 180.015 2189.88 181.427 Q2188.17 182.839 2185.29 182.839 L2181.89 182.839 L2181.89 179.274 L2184.39 179.274 Q2186.15 179.274 2187.12 178.44 Q2188.1 177.607 2189.28 174.505 L2190.04 172.561 L2179.55 147.052 L2184.07 147.052 L2192.17 167.329 L2200.27 147.052 L2204.79 147.052 L2193.4 175.385 Z\" fill=\"#000000\" fill-rule=\"evenodd\" fill-opacity=\"1\" /><path clip-path=\"url(#clip180)\" d=\"M 0 0 M2212.08 169.042 L2219.72 169.042 L2219.72 142.677 L2211.41 144.343 L2211.41 140.084 L2219.67 138.418 L2224.35 138.418 L2224.35 169.042 L2231.98 169.042 L2231.98 172.978 L2212.08 172.978 L2212.08 169.042 Z\" fill=\"#000000\" fill-rule=\"evenodd\" fill-opacity=\"1\" /></svg>\n"
      ]
     },
     "execution_count": 12,
     "metadata": {},
     "output_type": "execute_result"
    }
   ],
   "source": [
    "using Plots\n",
    "\n",
    "f(x) = x^4 - 14*x^3 + 60x^2 - 70*x\n",
    "\n",
    "x = range(0, stop=2.0, length=100)\n",
    "y = x->f(x)\n",
    "plot(x,y)"
   ]
  },
  {
   "cell_type": "code",
   "execution_count": 33,
   "metadata": {},
   "outputs": [
    {
     "name": "stdout",
     "output_type": "stream",
     "text": [
      "k=1,a=0,c=0.75,d=1.25,b=2,fc=-24.33984375,fd=-18.65234375\n",
      "k=2,a=0,c=0.5000000000000002,d=0.75,b=1.25,fc=-21.6875,fd=-24.33984375\n",
      "k=3,a=1.25,c=1.0,d=0.75,b=0.5000000000000002,fc=-23.0,fd=-24.33984375\n",
      "k=4,a=0.5000000000000002,c=0.7500000000000001,d=0.75,b=1.0,fc=-24.339843749999996,fd=-24.33984375\n"
     ]
    },
    {
     "data": {
      "text/plain": [
       "(0.7500000000000001, 1.0)"
      ]
     },
     "execution_count": 33,
     "metadata": {},
     "output_type": "execute_result"
    }
   ],
   "source": [
    "fbs(f, 0, 2, 4)"
   ]
  },
  {
   "cell_type": "markdown",
   "metadata": {},
   "source": [
    "With $\\rho_N=1/2$, the two intermediate points $c,d$ coincide in the middle of the search interval, and therefore we cannot correctly reduce the uncertainty range. To get around this problem, we perform the new evaluation for the last iteration using $\\rho_N = 1/2 - \\epsilon$, where $\\epsilon$ is a small positive real. In other words, the new evaluation point is just to the left or right of the midpoint of the uncertainty interval."
   ]
  },
  {
   "cell_type": "code",
   "execution_count": 39,
   "metadata": {},
   "outputs": [
    {
     "data": {
      "text/plain": [
       "fbs (generic function with 2 methods)"
      ]
     },
     "execution_count": 39,
     "metadata": {},
     "output_type": "execute_result"
    }
   ],
   "source": [
    "function fbs(f, a, b, N, ϵ=0.01)\n",
    "    \n",
    "    function F(n)\n",
    "        # We choose F₀=1, F₁=1, F₂=2, F₃=3, ...\n",
    "        ϕ = (1 + √5)/2\n",
    "        Fₙ = (ϕ^(n+1) - (1-ϕ)^(n+1))/√5\n",
    "        return Fₙ\n",
    "    end\n",
    "    \n",
    "    ρ = 1 - F(N)/F(N+1)\n",
    "    d = (1-ρ)*b + ρ*a\n",
    "    fd = f(d)\n",
    "    \n",
    "    k = 1\n",
    "    while k <= N\n",
    "        c = ρ*b + (1-ρ)*a\n",
    "        fc = f(c)\n",
    "\n",
    "        if (fc < fd)\n",
    "            d, b, fd = c, d, fc\n",
    "        else\n",
    "            a, b = b, c\n",
    "        end\n",
    "        \n",
    "        k = k + 1\n",
    "        \n",
    "        if k == N\n",
    "            ρ = 0.50 - ϵ\n",
    "        else\n",
    "            ρ = 1 - F(N - k + 1)/F(N - k + 2)\n",
    "        end\n",
    "\n",
    "    end\n",
    "    return a < b ? (a,b) : (b,a)\n",
    "end"
   ]
  },
  {
   "cell_type": "code",
   "execution_count": 40,
   "metadata": {},
   "outputs": [
    {
     "data": {
      "text/plain": [
       "(0.7250000000000001, 1.0)"
      ]
     },
     "execution_count": 40,
     "metadata": {},
     "output_type": "execute_result"
    }
   ],
   "source": [
    "fbs(f, 0, 2, 4, 0.05)"
   ]
  }
 ],
 "metadata": {
  "kernelspec": {
   "display_name": "Julia 1.5.3",
   "language": "julia",
   "name": "julia-1.5"
  },
  "language_info": {
   "file_extension": ".jl",
   "mimetype": "application/julia",
   "name": "julia",
   "version": "1.5.3"
  }
 },
 "nbformat": 4,
 "nbformat_minor": 4
}
